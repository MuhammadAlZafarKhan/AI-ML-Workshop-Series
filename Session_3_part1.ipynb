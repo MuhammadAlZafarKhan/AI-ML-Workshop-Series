{
  "nbformat": 4,
  "nbformat_minor": 0,
  "metadata": {
    "colab": {
      "provenance": []
    },
    "kernelspec": {
      "name": "python3",
      "display_name": "Python 3"
    },
    "language_info": {
      "name": "python"
    }
  },
  "cells": [
    {
      "cell_type": "markdown",
      "source": [
        "# What is Python?\n",
        "\n",
        "**Python** is a high-level, interpreted programming language known for its readability and simplicity. It's used in web development, data science, artificial intelligence, and more."
      ],
      "metadata": {
        "id": "Y05jKQSCzSlv"
      }
    },
    {
      "cell_type": "markdown",
      "source": [
        "# Printing an output"
      ],
      "metadata": {
        "id": "Fr4ok6ErzZOt"
      }
    },
    {
      "cell_type": "code",
      "execution_count": 1,
      "metadata": {
        "colab": {
          "base_uri": "https://localhost:8080/"
        },
        "id": "ANSeN2rAy3Gp",
        "outputId": "3a1c5b3b-2a9e-42ce-a3c6-93ce3b29d0a7"
      },
      "outputs": [
        {
          "output_type": "stream",
          "name": "stdout",
          "text": [
            "42\n"
          ]
        }
      ],
      "source": [
        "print(42)"
      ]
    },
    {
      "cell_type": "code",
      "source": [
        "print(\"Hello, World!\")"
      ],
      "metadata": {
        "colab": {
          "base_uri": "https://localhost:8080/"
        },
        "id": "xazO5tSmzgl0",
        "outputId": "ff27683d-8f61-4f38-fa55-27adea487519"
      },
      "execution_count": 2,
      "outputs": [
        {
          "output_type": "stream",
          "name": "stdout",
          "text": [
            "Hello, World!\n"
          ]
        }
      ]
    },
    {
      "cell_type": "markdown",
      "source": [
        "# Variables\n",
        "\n",
        "**Variables** are like labeled boxes where you store data. You assign a value to a variable using the single equals sign (=)."
      ],
      "metadata": {
        "id": "nJ6naM7wzptI"
      }
    },
    {
      "cell_type": "code",
      "source": [
        "# Storing a username\n",
        "user_name = \"Alice\"\n",
        "\n",
        "# Storing a price\n",
        "product_price = 19.99\n",
        "\n",
        "# Storing a count\n",
        "items_in_cart = 5\n",
        "\n",
        "print(user_name)\n",
        "print(product_price * items_in_cart) # Output: 99.95 (a calculated total)"
      ],
      "metadata": {
        "colab": {
          "base_uri": "https://localhost:8080/"
        },
        "id": "E8UIEQ4Zzlry",
        "outputId": "c9078f8a-7f56-492e-9e06-397e9483918f"
      },
      "execution_count": 3,
      "outputs": [
        {
          "output_type": "stream",
          "name": "stdout",
          "text": [
            "Alice\n",
            "99.94999999999999\n"
          ]
        }
      ]
    },
    {
      "cell_type": "markdown",
      "source": [
        "# Data Types in Python\n",
        "\n",
        "| Type of Data                        | Python Name       | Example            |\n",
        "|-------------------------------------|-------------------|--------------------|\n",
        "| Text (letters, words, sentences)    | String (str)      | \"Python\"           |\n",
        "| Whole Numbers (no decimals)         | Integer (int)     | 10, -5             |\n",
        "| Decimal Numbers                     | Float (float)     | 3.14, 10.5         |\n",
        "| True/False Values                   | Boolean (bool)    | True, False        |"
      ],
      "metadata": {
        "id": "40e2vpPnz72k"
      }
    },
    {
      "cell_type": "markdown",
      "source": [
        "# Basic Arithmetic Operators\n",
        "\n",
        "| Operator | Operation        | Example                     | Result |\n",
        "|----------|------------------|-----------------------------|--------|\n",
        "| +        | Addition         | 5 + 3                       | 8      |\n",
        "| -        | Subtraction      | 10 - 4                      | 6      |\n",
        "| *        | Multiplication   | 2 * 6                       | 12     |\n",
        "| /        | Division         | 15 / 3                      | 5.0    |\n",
        "| **       | Exponentiation   | 2 ** 3 (2 to the power of 3) | 8      |"
      ],
      "metadata": {
        "id": "A2HqbC5J06Pu"
      }
    },
    {
      "cell_type": "code",
      "source": [
        "# Example: Calculating discount\n",
        "\n",
        "original_price = 100\n",
        "discount_percentage = 0.20 # 20%\n",
        "discount_amount = original_price * discount_percentage\n",
        "final_price = original_price - discount_amount\n",
        "\n",
        "print(f\"The final price after discount is: ${final_price}\") # f-string for easy printing"
      ],
      "metadata": {
        "colab": {
          "base_uri": "https://localhost:8080/"
        },
        "id": "MSaweD1xz5l2",
        "outputId": "2d65bdbb-e13b-4f9e-9168-b4a5550a12d6"
      },
      "execution_count": 4,
      "outputs": [
        {
          "output_type": "stream",
          "name": "stdout",
          "text": [
            "The final price after discount is: $80.0\n"
          ]
        }
      ]
    },
    {
      "cell_type": "markdown",
      "source": [
        "# Grouping Data: Lists\n",
        "\n",
        "| Concept            | Code                                    | Explanation                                    |\n",
        "|--------------------|-----------------------------------------|------------------------------------------------|\n",
        "| Creating a List    | shopping_list = [\"milk\", \"bread\", \"eggs\"] | A list of groceries.                           |\n",
        "| Accessing an Item  | shopping_list[0]                        | Accesses the first item (indexing starts at 0). Result: \"milk\" |\n",
        "| Adding an Item     | shopping_list.append(\"cheese\")          | Adds \"cheese\" to the end of the list.          |"
      ],
      "metadata": {
        "id": "GjV5lOyT1tu9"
      }
    },
    {
      "cell_type": "markdown",
      "source": [
        "A List is an ordered collection of items. It's one of the most common data structures. Lists are defined using square brackets ([])."
      ],
      "metadata": {
        "id": "WKWGM2j12Q9V"
      }
    },
    {
      "cell_type": "code",
      "source": [
        "# Example: Managing a to-do list\n",
        "\n",
        "# Initial to-do list\n",
        "tasks = [\"Email report\", \"Call client\", \"Review slides\"]\n",
        "\n",
        "# Mark the first item as done and remove it\n",
        "done_task = tasks.pop(0) # Removes and returns the item at index 0\n",
        "\n",
        "print(f\"Task completed: {done_task}\")\n",
        "print(f\"Remaining tasks: {tasks}\") # Output: ['Call client', 'Review slides']"
      ],
      "metadata": {
        "colab": {
          "base_uri": "https://localhost:8080/"
        },
        "id": "t1MbdAhO1_wV",
        "outputId": "cbf33018-c97f-4b95-ba76-cd60362851e2"
      },
      "execution_count": 5,
      "outputs": [
        {
          "output_type": "stream",
          "name": "stdout",
          "text": [
            "Task completed: Email report\n",
            "Remaining tasks: ['Call client', 'Review slides']\n"
          ]
        }
      ]
    },
    {
      "cell_type": "markdown",
      "source": [
        "# Conditional Statements\n",
        "\n",
        "**Conditional statements** allow your program to make decisions based on whether a condition is **True** or **False**.\n",
        "\n",
        "| Operator | Meaning                     | Example             |\n",
        "|----------|-----------------------------|---------------------|\n",
        "| ==       | Equal to                    | age == 18           |\n",
        "| !=       | Not equal to                | name != \"Bob\"       |\n",
        "| >        | Greater than                | score > 50          |\n",
        "| <        | Less than                   | temperature < 0     |\n",
        "| >=       | Greater than or equal to    | level >= 10         |"
      ],
      "metadata": {
        "id": "AhmweetB2eSt"
      }
    },
    {
      "cell_type": "markdown",
      "source": [
        "**Execution Control Statements:** if, elif, else\n",
        "\n",
        "They are used for decision making. The examples below illustrate their usage."
      ],
      "metadata": {
        "id": "peTNB5iS3Ex-"
      }
    },
    {
      "cell_type": "code",
      "source": [
        "# Example: Checking the login status of a user\n",
        "\n",
        "is_logged_in = True\n",
        "user_age = 25\n",
        "\n",
        "if is_logged_in and user_age >= 18:\n",
        "    print(\"Welcome to the main site!\")\n",
        "elif is_logged_in and user_age < 18:\n",
        "    print(\"Access restricted: Age minimum not met.\")\n",
        "else:\n",
        "    print(\"Please log in to continue.\")"
      ],
      "metadata": {
        "colab": {
          "base_uri": "https://localhost:8080/"
        },
        "id": "R5ZiF-4D2Z1w",
        "outputId": "2b7fbd5f-d1e7-41bb-849f-cfb8bbb0b0c4"
      },
      "execution_count": 6,
      "outputs": [
        {
          "output_type": "stream",
          "name": "stdout",
          "text": [
            "Welcome to the main site!\n"
          ]
        }
      ]
    },
    {
      "cell_type": "markdown",
      "source": [
        "# For Loops\n",
        "\n",
        "A **for** loop is used for iterating over a sequence (like a list) or performing an action a specific number of times."
      ],
      "metadata": {
        "id": "pY9m6Zrn3hsu"
      }
    },
    {
      "cell_type": "code",
      "source": [
        "# Example: Displaying blog posts\n",
        "\n",
        "# A list of post titles\n",
        "blog_posts = [\"A Beginners Guide to Python\", \"Data Science Trends\", \"My Coding Journey\"]\n",
        "\n",
        "# Iterate over the list and display each title\n",
        "print(\"--- Recent Blog Posts ---\")\n",
        "for post in blog_posts:\n",
        "    print(f\"- {post}\")"
      ],
      "metadata": {
        "colab": {
          "base_uri": "https://localhost:8080/"
        },
        "id": "SbW16t_W3UoP",
        "outputId": "fef0ae37-c35d-415e-a7b2-8722d0b124d4"
      },
      "execution_count": 7,
      "outputs": [
        {
          "output_type": "stream",
          "name": "stdout",
          "text": [
            "--- Recent Blog Posts ---\n",
            "- A Beginners Guide to Python\n",
            "- Data Science Trends\n",
            "- My Coding Journey\n"
          ]
        }
      ]
    },
    {
      "cell_type": "markdown",
      "source": [
        "# While Loop\n",
        "\n",
        "A **while** loop repeats a block of code **as long as a certain condition is True**. You use this when you don't know exactly how many times you need to repeat something (unlike a for loop, which is often used for a fixed list or range)."
      ],
      "metadata": {
        "id": "yBmRxgg53713"
      }
    },
    {
      "cell_type": "code",
      "source": [
        "# Example: A simple counter\n",
        "\n",
        "count = 0\n",
        "\n",
        "# The loop will run as long as 'count' is less than 3\n",
        "while count < 3:\n",
        "    print(f\"Current count: {count}\")\n",
        "    count = count + 1 # Crucial: This changes the condition, preventing an infinite loop, can also be written as count += 1\n",
        "\n",
        "print(\"Loop finished!\")\n",
        "# Output: Current count: 0, Current count: 1, Current count: 2, Loop finished!"
      ],
      "metadata": {
        "colab": {
          "base_uri": "https://localhost:8080/"
        },
        "id": "yznTNNPO4SAF",
        "outputId": "b0353247-ade9-4eed-8562-d90f343bfb47"
      },
      "execution_count": 8,
      "outputs": [
        {
          "output_type": "stream",
          "name": "stdout",
          "text": [
            "Current count: 0\n",
            "Current count: 1\n",
            "Current count: 2\n",
            "Loop finished!\n"
          ]
        }
      ]
    },
    {
      "cell_type": "code",
      "source": [
        "# Example: Game retry mechanism\n",
        "\n",
        "attempts_left = 3\n",
        "correct_answer = 7\n",
        "\n",
        "# Start the game loop\n",
        "while attempts_left > 0:\n",
        "    print(f\"\\nYou have {attempts_left} attempts remaining.\")\n",
        "\n",
        "    # In a real program, you'd get user input here (see section 4)\n",
        "    user_guess = 5 # Faking the user guess for this example\n",
        "\n",
        "    if user_guess == correct_answer:\n",
        "        print(\"Congratulations! You guessed correctly!\")\n",
        "        attempts_left = 0 # End the loop immediately\n",
        "    else:\n",
        "        print(\"Incorrect guess.\")\n",
        "        attempts_left -= 1 # attempts_left = attempts_left - 1\n",
        "\n",
        "if attempts_left == 0 and user_guess != correct_answer:\n",
        "    print(\"Game Over. You ran out of attempts.\")"
      ],
      "metadata": {
        "colab": {
          "base_uri": "https://localhost:8080/"
        },
        "id": "AxNSuJvj4pcT",
        "outputId": "5d9fe6dc-a9cb-40ad-ca7b-7a6381b37789"
      },
      "execution_count": 9,
      "outputs": [
        {
          "output_type": "stream",
          "name": "stdout",
          "text": [
            "\n",
            "You have 3 attempts remaining.\n",
            "Incorrect guess.\n",
            "\n",
            "You have 2 attempts remaining.\n",
            "Incorrect guess.\n",
            "\n",
            "You have 1 attempts remaining.\n",
            "Incorrect guess.\n",
            "Game Over. You ran out of attempts.\n"
          ]
        }
      ]
    },
    {
      "cell_type": "markdown",
      "source": [
        "# Dictionaries\n",
        "\n",
        "A **Dictionary** is an unordered collection of data that stores information in **key-value pairs**. It's perfect for representing structured data, like a record or profile. They are defined using curly braces ( {} ).\n",
        "\n",
        "| Concept & Syntax       | Code                                          | Explanation                                                  |\n",
        "|-----------------------|-----------------------------------------------|--------------------------------------------------------------|\n",
        "| Creating a Dictionary | user_profile = {\"username\": \"admin1\", \"is_active\": True, \"logins\": 5} | Each item has a unique key (\"username\") and a corresponding value (\"admin1\"). |\n",
        "| Accessing a Value     | user_profile[\"username\"]                      | Access the value using its key. Result: \"admin1\"              |\n",
        "| Adding/Updating       | user_profile[\"logins\"] = 6                    | Change the value for the key \"logins\".                       |"
      ],
      "metadata": {
        "id": "4WW85XFh42Qn"
      }
    },
    {
      "cell_type": "code",
      "source": [
        "# Product inventory/stock\n",
        "\n",
        "product_inventory = {\n",
        "    \"sku_456\": {\"name\": \"Laptop Charger\", \"price\": 45.00, \"stock\": 15},\n",
        "    \"sku_123\": {\"name\": \"Mechanical Keyboard\", \"price\": 99.99, \"stock\": 3},\n",
        "    \"sku_789\": {\"name\": \"Webcam\", \"price\": 25.50, \"stock\": 0}\n",
        "}\n",
        "\n",
        "# Check if the keyboard is in stock\n",
        "keyboard_stock = product_inventory[\"sku_123\"][\"stock\"]\n",
        "\n",
        "if keyboard_stock > 0:\n",
        "    print(f\"The Mechanical Keyboard is in stock. Current quantity: {keyboard_stock}\")\n",
        "else:\n",
        "    print(\"Out of stock.\")"
      ],
      "metadata": {
        "colab": {
          "base_uri": "https://localhost:8080/"
        },
        "id": "bjzB6G8Z46IR",
        "outputId": "16071862-2d07-4305-9cfa-dba804938db4"
      },
      "execution_count": 10,
      "outputs": [
        {
          "output_type": "stream",
          "name": "stdout",
          "text": [
            "The Mechanical Keyboard is in stock. Current quantity: 3\n"
          ]
        }
      ]
    },
    {
      "cell_type": "markdown",
      "source": [
        "# Functions\n",
        "\n",
        "A **function** is a block of organized, reusable code that performs a single, related action. They help keep your code **DRY** (**D**on't **R**epeat **Y**ourself)."
      ],
      "metadata": {
        "id": "if9NKY7C50E0"
      }
    },
    {
      "cell_type": "code",
      "source": [
        "# Example: VAT calculation\n",
        "\n",
        "# Define the function with two parameters: amount and tax_rate\n",
        "def calculate_tax(amount, tax_rate):\n",
        "    tax_value = amount * tax_rate\n",
        "    return tax_value # Send the calculated value back\n",
        "\n",
        "# Call the function (execution starts here)\n",
        "item_cost = 50.00\n",
        "sales_tax = 0.05 # 5%\n",
        "\n",
        "# Store the result returned by the function\n",
        "calculated_tax = calculate_tax(item_cost, sales_tax)\n",
        "\n",
        "total_price = item_cost + calculated_tax\n",
        "\n",
        "print(f\"The total price is: ${total_price:.2f}\") # Output: $52.50"
      ],
      "metadata": {
        "id": "Nq03yWDR6Lrt",
        "colab": {
          "base_uri": "https://localhost:8080/"
        },
        "outputId": "e3e75f86-d434-4f48-efb3-f596f1d326dd"
      },
      "execution_count": 11,
      "outputs": [
        {
          "output_type": "stream",
          "name": "stdout",
          "text": [
            "The total price is: $52.50\n"
          ]
        }
      ]
    },
    {
      "cell_type": "markdown",
      "source": [
        "# While Loop\n",
        "\n",
        "\n",
        "* **Condition:** The loop continues to run only while the condition remains True.\n",
        "* **Iteration:** \"You must include code inside the loop that eventually makes the condition False (otherwise, you create an infinite loop!).\"\n"
      ],
      "metadata": {
        "id": "Ewo4ptBz9N30"
      }
    },
    {
      "cell_type": "code",
      "source": [
        "# Example\n",
        "\n",
        "count = 0\n",
        "\n",
        "# The loop will run as long as 'count' is less than 3\n",
        "while count < 3:\n",
        "    print(f\"Current count: {count}\")\n",
        "    count = count + 1 # Crucial: This changes the condition, preventing an infinite loop\n",
        "\n",
        "print(\"Loop finished!\")\n",
        "# Output: Current count: 0, Current count: 1, Current count: 2, Loop finished!"
      ],
      "metadata": {
        "colab": {
          "base_uri": "https://localhost:8080/"
        },
        "id": "pqDhOgJv-Xt3",
        "outputId": "71ef4818-947c-44b7-bf22-0d5301af1238"
      },
      "execution_count": 12,
      "outputs": [
        {
          "output_type": "stream",
          "name": "stdout",
          "text": [
            "Current count: 0\n",
            "Current count: 1\n",
            "Current count: 2\n",
            "Loop finished!\n"
          ]
        }
      ]
    },
    {
      "cell_type": "code",
      "source": [
        "# Example: Game-Retry Mechanism\n",
        "\n",
        "attempts_left = 3\n",
        "correct_answer = 7\n",
        "\n",
        "# Start the game loop\n",
        "while attempts_left > 0:\n",
        "    print(f\"\\nYou have {attempts_left} attempts remaining.\")\n",
        "\n",
        "    # In a real program, you'd get user input here (see section 4)\n",
        "    user_guess = 5 # Faking the user guess for this example\n",
        "\n",
        "    if user_guess == correct_answer:\n",
        "        print(\"Congratulations! You guessed correctly!\")\n",
        "        attempts_left = 0 # End the loop immediately\n",
        "    else:\n",
        "        print(\"Incorrect guess.\")\n",
        "        attempts_left -= 1 # attempts_left = attempts_left - 1\n",
        "\n",
        "if attempts_left == 0 and user_guess != correct_answer:\n",
        "    print(\"Game Over. You ran out of attempts.\")"
      ],
      "metadata": {
        "colab": {
          "base_uri": "https://localhost:8080/"
        },
        "id": "j5rrBxts-2l_",
        "outputId": "59040a32-f75d-4d88-a584-bc8fdf0e3387"
      },
      "execution_count": 13,
      "outputs": [
        {
          "output_type": "stream",
          "name": "stdout",
          "text": [
            "\n",
            "You have 3 attempts remaining.\n",
            "Incorrect guess.\n",
            "\n",
            "You have 2 attempts remaining.\n",
            "Incorrect guess.\n",
            "\n",
            "You have 1 attempts remaining.\n",
            "Incorrect guess.\n",
            "Game Over. You ran out of attempts.\n"
          ]
        }
      ]
    },
    {
      "cell_type": "markdown",
      "source": [
        "# Getting User Input\n",
        "\n",
        "The **input()** function allows you to pause the program and wait for the user to type something and press Enter. The value entered by the user is always stored as a String."
      ],
      "metadata": {
        "id": "nbGejQhu_C4r"
      }
    },
    {
      "cell_type": "code",
      "source": [
        "# Example\n",
        "\n",
        "# 1. Ask the user a question\n",
        "name = input(\"Please enter your name: \")\n",
        "\n",
        "# 2. Get the age (stored as a string)\n",
        "age_str = input(\"How old are you? \")\n",
        "\n",
        "# 3. Convert the age string to an integer (necessary for calculations!)\n",
        "age_int = int(age_str)\n",
        "\n",
        "print(f\"Hello, {name}! In ten years, you'll be {age_int + 10} years old.\")"
      ],
      "metadata": {
        "colab": {
          "base_uri": "https://localhost:8080/"
        },
        "id": "uTEHlFqF_Lqo",
        "outputId": "979b4ed5-5990-4e43-ff1f-4067a8641dd4"
      },
      "execution_count": 14,
      "outputs": [
        {
          "output_type": "stream",
          "name": "stdout",
          "text": [
            "Please enter your name: Joe\n",
            "How old are you? 13\n",
            "Hello, Joe! In ten years, you'll be 23 years old.\n"
          ]
        }
      ]
    },
    {
      "cell_type": "markdown",
      "source": [
        "# Error Handling\n",
        "\n",
        "* In the real world, programs often encounter errors (like a user entering text when you expect a number, or a file not being found). Error Handling allows your program to manage these issues gracefully instead of crashing.\n",
        "\n",
        "* You place the code that might cause an error inside the **try** block. If an error occurs, the code execution immediately jumps to the **except** block, where you define how to handle the problem"
      ],
      "metadata": {
        "id": "nd-UgvgD_Y5j"
      }
    },
    {
      "cell_type": "code",
      "source": [
        "# Example\n",
        "\n",
        "def safe_divide(a, b):\n",
        "    try:\n",
        "        # Attempt the operation that might fail\n",
        "        result = a / b\n",
        "        print(f\"The result is: {result}\")\n",
        "\n",
        "    except ZeroDivisionError:\n",
        "        # Handle the specific error of dividing by zero\n",
        "        print(\"Error: Cannot divide by zero. Please check the divisor.\")\n",
        "\n",
        "    except TypeError:\n",
        "        # Handle the specific error if inputs aren't numbers\n",
        "        print(\"Error: Both inputs must be numbers.\")\n",
        "\n",
        "    except Exception as e:\n",
        "        # A catch-all for any other unexpected error\n",
        "        print(f\"An unexpected error occurred: {e}\")\n",
        "\n",
        "# Test Cases\n",
        "safe_divide(10, 2)    # Works fine (Output: The result is: 5.0)\n",
        "safe_divide(10, 0)    # Triggers ZeroDivisionError (Output: Error: Cannot divide by zero...)\n",
        "safe_divide(10, \"five\") # Triggers TypeError (Output: Error: Both inputs must be numbers.)"
      ],
      "metadata": {
        "colab": {
          "base_uri": "https://localhost:8080/"
        },
        "id": "TEbTA8ogAULY",
        "outputId": "0216c6ec-70d6-4f6a-d235-a6da031df4c4"
      },
      "execution_count": 15,
      "outputs": [
        {
          "output_type": "stream",
          "name": "stdout",
          "text": [
            "The result is: 5.0\n",
            "Error: Cannot divide by zero. Please check the divisor.\n",
            "Error: Both inputs must be numbers.\n"
          ]
        }
      ]
    },
    {
      "cell_type": "markdown",
      "source": [
        "# Modules\n",
        "\n",
        "* A **module** is simply a Python file (.py) containing code (functions, variables, classes, etc.) that you want to include in your current program. Using modules helps organize large projects and allows you to reuse code written by others.\n",
        "\n",
        "* You use the import statement to bring functionality from a module into your script. Python comes with a vast Standard Library of built-in modules."
      ],
      "metadata": {
        "id": "tweR_H1bAf-E"
      }
    },
    {
      "cell_type": "code",
      "source": [
        "# Import the entire 'random' module\n",
        "import random\n",
        "\n",
        "# Import a specific function 'sqrt' (square root) from the 'math' module\n",
        "from math import sqrt\n",
        "\n",
        "# --- Using the imported functionality ---\n",
        "\n",
        "# 1. Use a function from the 'random' module (prefix with 'random.')\n",
        "dice_roll = random.randint(1, 6) # Generates a random integer between 1 and 6\n",
        "\n",
        "print(f\"You rolled a {dice_roll}\")\n",
        "\n",
        "# 2. Use the imported 'sqrt' function directly\n",
        "number = 81\n",
        "root = sqrt(number)\n",
        "\n",
        "print(f\"The square root of {number} is {root}\")"
      ],
      "metadata": {
        "colab": {
          "base_uri": "https://localhost:8080/"
        },
        "id": "XU10ccd0ApJD",
        "outputId": "f999157c-6933-4f32-bd0f-9615612657c6"
      },
      "execution_count": 16,
      "outputs": [
        {
          "output_type": "stream",
          "name": "stdout",
          "text": [
            "You rolled a 5\n",
            "The square root of 81 is 9.0\n"
          ]
        }
      ]
    },
    {
      "cell_type": "markdown",
      "source": [
        "# Object-Oriented Programming (OOP): Classes\n",
        "\n",
        "* **Object-Oriented Programming (OOP)** is a powerful programming paradigm that focuses on creating objects that bundle data and the functions that operate on that data. A Class is the blueprint for creating these objects.\n",
        "\n",
        "| Term       | Concept                                                                 |\n",
        "|------------|-------------------------------------------------------------------------|\n",
        "| Class      | The blueprint (e.g., the idea of a \"Car\").                              |\n",
        "| Object     | A specific instance of the class (e.g., your specific \"Red Honda Civic\").|\n",
        "| Attribute  | Data associated with the object (e.g., color, make, year).              |\n",
        "| Method     | A function that belongs to the object (e.g., start_engine(), brake()).  |"
      ],
      "metadata": {
        "id": "MXTJOOa4A2ee"
      }
    },
    {
      "cell_type": "code",
      "source": [
        "# Example\n",
        "\n",
        "# The Class is the blueprint (always capitalize class names)\n",
        "class Car:\n",
        "    # The special '__init__' method is called when a new object is created\n",
        "    def __init__(self, make, model, year):\n",
        "        # Initialize attributes (data) for the new Car object\n",
        "        self.make = make\n",
        "        self.model = model\n",
        "        self.year = year\n",
        "        self.is_running = False # A default attribute\n",
        "\n",
        "    # A Method (a function that belongs to the object)\n",
        "    def start_engine(self):\n",
        "        self.is_running = True\n",
        "        return f\"{self.make} {self.model}'s engine started. Vroom!\"\n",
        "\n",
        "    # Another Method\n",
        "    def get_age(self, current_year):\n",
        "        return current_year - self.year\n",
        "\n",
        "# --- Creating and using Objects ---\n",
        "\n",
        "# 1. Create two new Car objects (instances of the Car class)\n",
        "car_a = Car(\"Honda\", \"Civic\", 2018)\n",
        "car_b = Car(\"Tesla\", \"Model 3\", 2023)\n",
        "\n",
        "# 2. Access attributes and call methods on the objects\n",
        "print(car_a.make)          # Output: Honda (Accessing an attribute)\n",
        "print(car_b.start_engine()) # Output: Tesla Model 3's engine started. Vroom! (Calling a method)\n",
        "print(f\"Car A is {car_a.get_age(2025)} years old.\") # Output: Car A is 7 years old."
      ],
      "metadata": {
        "colab": {
          "base_uri": "https://localhost:8080/"
        },
        "id": "Iglsyeu0BaL8",
        "outputId": "485d7719-1fed-49bd-a81c-acd5325c03bf"
      },
      "execution_count": 17,
      "outputs": [
        {
          "output_type": "stream",
          "name": "stdout",
          "text": [
            "Honda\n",
            "Tesla Model 3's engine started. Vroom!\n",
            "Car A is 7 years old.\n"
          ]
        }
      ]
    }
  ]
}